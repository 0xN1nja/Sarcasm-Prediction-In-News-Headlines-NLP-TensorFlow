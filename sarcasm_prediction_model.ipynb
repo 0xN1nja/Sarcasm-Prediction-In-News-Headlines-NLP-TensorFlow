{
 "cells": [
  {
   "cell_type": "code",
   "execution_count": 1,
   "id": "05721b86",
   "metadata": {},
   "outputs": [],
   "source": [
    "import tensorflow as tf\n",
    "import numpy as np\n",
    "import json\n",
    "import matplotlib.pyplot as plt\n",
    "import random"
   ]
  },
  {
   "cell_type": "markdown",
   "id": "a76a4d15",
   "metadata": {},
   "source": [
    "# Create Dataset"
   ]
  },
  {
   "cell_type": "code",
   "execution_count": 2,
   "id": "6dc63e23",
   "metadata": {},
   "outputs": [],
   "source": [
    "x=[]\n",
    "y=[]\n",
    "with open(r\"C:\\Users\\speed\\Documents\\Sarcasm Detection In News Headlines NLP TensorFlow\\data\\Sarcasm_Headlines_Dataset.json\")as f:\n",
    "    for i in f.readlines():\n",
    "        x.append(json.loads(i)[\"headline\"])\n",
    "        y.append(json.loads(i)[\"is_sarcastic\"])\n",
    "train=[]\n",
    "for i in range(len(x)):\n",
    "    train.append([x[i],y[i]])\n",
    "random.shuffle(train)\n",
    "X=[]\n",
    "Y=[]\n",
    "for i,j in train:\n",
    "    X.append(i)\n",
    "    Y.append(j)\n",
    "X=np.array(X)\n",
    "Y=np.array(Y)\n",
    "assert len(X)==len(Y)"
   ]
  },
  {
   "cell_type": "markdown",
   "id": "8181cc36",
   "metadata": {},
   "source": [
    "# Create Tokenizer Instance"
   ]
  },
  {
   "cell_type": "code",
   "execution_count": 64,
   "id": "da3961ac",
   "metadata": {},
   "outputs": [],
   "source": [
    "token=tf.keras.preprocessing.text.Tokenizer(oov_token=\"<OOV>\")\n",
    "token.fit_on_texts(X)\n",
    "sequences=token.texts_to_sequences(X)\n",
    "padded_sequences=tf.keras.preprocessing.sequence.pad_sequences(sequences,padding=\"post\",truncating=\"post\",maxlen=30)"
   ]
  },
  {
   "cell_type": "markdown",
   "id": "6e9da5c2",
   "metadata": {},
   "source": [
    "# Create Model"
   ]
  },
  {
   "cell_type": "code",
   "execution_count": 65,
   "id": "0c27f234",
   "metadata": {},
   "outputs": [],
   "source": [
    "model=tf.keras.models.Sequential([\n",
    "    tf.keras.layers.Embedding(len(token.word_index)+1,4,input_length=30),\n",
    "    tf.keras.layers.GlobalAveragePooling1D(),\n",
    "    tf.keras.layers.Dense(24,activation=tf.nn.relu),\n",
    "    tf.keras.layers.Dense(1,activation=tf.nn.sigmoid)\n",
    "])"
   ]
  },
  {
   "cell_type": "markdown",
   "id": "e4b0f986",
   "metadata": {},
   "source": [
    "# Get Summary Of Model"
   ]
  },
  {
   "cell_type": "code",
   "execution_count": 66,
   "id": "a6b5ebab",
   "metadata": {},
   "outputs": [
    {
     "name": "stdout",
     "output_type": "stream",
     "text": [
      "Model: \"sequential_6\"\n",
      "_________________________________________________________________\n",
      " Layer (type)                Output Shape              Param #   \n",
      "=================================================================\n",
      " embedding_6 (Embedding)     (None, 30, 4)             123544    \n",
      "                                                                 \n",
      " global_average_pooling1d_3   (None, 4)                0         \n",
      " (GlobalAveragePooling1D)                                        \n",
      "                                                                 \n",
      " dense_12 (Dense)            (None, 24)                120       \n",
      "                                                                 \n",
      " dense_13 (Dense)            (None, 1)                 25        \n",
      "                                                                 \n",
      "=================================================================\n",
      "Total params: 123,689\n",
      "Trainable params: 123,689\n",
      "Non-trainable params: 0\n",
      "_________________________________________________________________\n"
     ]
    }
   ],
   "source": [
    "model.summary()"
   ]
  },
  {
   "cell_type": "markdown",
   "id": "d9ac8e9d",
   "metadata": {},
   "source": [
    "# Compile The Model"
   ]
  },
  {
   "cell_type": "code",
   "execution_count": 67,
   "id": "ae359472",
   "metadata": {},
   "outputs": [],
   "source": [
    "model.compile(optimizer=\"adam\",loss=\"binary_crossentropy\",metrics=[\"accuracy\"])"
   ]
  },
  {
   "cell_type": "markdown",
   "id": "ca2988f1",
   "metadata": {},
   "source": [
    "# Train The Model"
   ]
  },
  {
   "cell_type": "code",
   "execution_count": 69,
   "id": "3b7799cc",
   "metadata": {
    "scrolled": true
   },
   "outputs": [
    {
     "name": "stdout",
     "output_type": "stream",
     "text": [
      "Epoch 1/30\n",
      "805/805 [==============================] - 3s 3ms/step - loss: 0.5836 - accuracy: 0.7067 - val_loss: 0.4139 - val_accuracy: 0.8340\n",
      "Epoch 2/30\n",
      "805/805 [==============================] - 2s 3ms/step - loss: 0.3249 - accuracy: 0.8699 - val_loss: 0.3332 - val_accuracy: 0.8588\n",
      "Epoch 3/30\n",
      "805/805 [==============================] - 2s 3ms/step - loss: 0.2352 - accuracy: 0.9103 - val_loss: 0.3128 - val_accuracy: 0.8697\n",
      "Epoch 4/30\n",
      "805/805 [==============================] - 3s 4ms/step - loss: 0.1791 - accuracy: 0.9358 - val_loss: 0.3138 - val_accuracy: 0.8721\n",
      "Epoch 5/30\n",
      "805/805 [==============================] - 4s 4ms/step - loss: 0.1370 - accuracy: 0.9516 - val_loss: 0.3267 - val_accuracy: 0.8707\n",
      "Epoch 6/30\n",
      "805/805 [==============================] - 4s 5ms/step - loss: 0.1057 - accuracy: 0.9660 - val_loss: 0.3495 - val_accuracy: 0.8648\n",
      "Epoch 7/30\n",
      "805/805 [==============================] - 4s 5ms/step - loss: 0.0816 - accuracy: 0.9755 - val_loss: 0.3805 - val_accuracy: 0.8609\n",
      "Epoch 8/30\n",
      "805/805 [==============================] - 3s 4ms/step - loss: 0.0630 - accuracy: 0.9819 - val_loss: 0.4101 - val_accuracy: 0.8599\n",
      "Epoch 9/30\n",
      "805/805 [==============================] - 3s 4ms/step - loss: 0.0489 - accuracy: 0.9863 - val_loss: 0.4529 - val_accuracy: 0.8522\n",
      "Epoch 10/30\n",
      "805/805 [==============================] - 4s 5ms/step - loss: 0.0380 - accuracy: 0.9903 - val_loss: 0.4957 - val_accuracy: 0.8526\n",
      "Epoch 11/30\n",
      "805/805 [==============================] - 4s 5ms/step - loss: 0.0289 - accuracy: 0.9930 - val_loss: 0.5416 - val_accuracy: 0.8515\n",
      "Epoch 12/30\n",
      "805/805 [==============================] - 4s 5ms/step - loss: 0.0220 - accuracy: 0.9952 - val_loss: 0.5944 - val_accuracy: 0.8477\n",
      "Epoch 13/30\n",
      "805/805 [==============================] - 5s 6ms/step - loss: 0.0166 - accuracy: 0.9964 - val_loss: 0.6460 - val_accuracy: 0.8477\n",
      "Epoch 14/30\n",
      "805/805 [==============================] - 4s 5ms/step - loss: 0.0121 - accuracy: 0.9976 - val_loss: 0.7052 - val_accuracy: 0.8410\n",
      "Epoch 15/30\n",
      "805/805 [==============================] - 4s 4ms/step - loss: 0.0092 - accuracy: 0.9984 - val_loss: 0.7811 - val_accuracy: 0.8379\n",
      "Epoch 16/30\n",
      "805/805 [==============================] - 4s 5ms/step - loss: 0.0070 - accuracy: 0.9990 - val_loss: 0.8218 - val_accuracy: 0.8340\n",
      "Epoch 17/30\n",
      "805/805 [==============================] - 4s 5ms/step - loss: 0.0050 - accuracy: 0.9995 - val_loss: 0.8806 - val_accuracy: 0.8358\n",
      "Epoch 18/30\n",
      "805/805 [==============================] - 4s 5ms/step - loss: 0.0039 - accuracy: 0.9997 - val_loss: 0.9534 - val_accuracy: 0.8323\n",
      "Epoch 19/30\n",
      "805/805 [==============================] - 4s 5ms/step - loss: 0.0029 - accuracy: 0.9996 - val_loss: 1.0066 - val_accuracy: 0.8305\n",
      "Epoch 20/30\n",
      "805/805 [==============================] - 4s 5ms/step - loss: 0.0020 - accuracy: 0.9998 - val_loss: 1.0698 - val_accuracy: 0.8288\n",
      "Epoch 21/30\n",
      "805/805 [==============================] - 4s 5ms/step - loss: 0.0015 - accuracy: 0.9999 - val_loss: 1.1402 - val_accuracy: 0.8284\n",
      "Epoch 22/30\n",
      "805/805 [==============================] - 4s 5ms/step - loss: 0.0011 - accuracy: 0.9999 - val_loss: 1.2025 - val_accuracy: 0.8288\n",
      "Epoch 23/30\n",
      "805/805 [==============================] - 4s 4ms/step - loss: 8.0845e-04 - accuracy: 1.0000 - val_loss: 1.2869 - val_accuracy: 0.8242\n",
      "Epoch 24/30\n",
      "805/805 [==============================] - 4s 4ms/step - loss: 6.6373e-04 - accuracy: 1.0000 - val_loss: 1.3133 - val_accuracy: 0.8211\n",
      "Epoch 25/30\n",
      "805/805 [==============================] - 4s 5ms/step - loss: 4.4550e-04 - accuracy: 1.0000 - val_loss: 1.4005 - val_accuracy: 0.8246\n",
      "Epoch 26/30\n",
      "805/805 [==============================] - 4s 5ms/step - loss: 2.7726e-04 - accuracy: 1.0000 - val_loss: 1.4220 - val_accuracy: 0.8197\n",
      "Epoch 27/30\n",
      "805/805 [==============================] - 3s 4ms/step - loss: 1.8754e-04 - accuracy: 1.0000 - val_loss: 1.4865 - val_accuracy: 0.8194\n",
      "Epoch 28/30\n",
      "805/805 [==============================] - 3s 4ms/step - loss: 1.4374e-04 - accuracy: 1.0000 - val_loss: 1.5405 - val_accuracy: 0.8201\n",
      "Epoch 29/30\n",
      "805/805 [==============================] - 4s 4ms/step - loss: 1.0058e-04 - accuracy: 1.0000 - val_loss: 1.6057 - val_accuracy: 0.8173\n",
      "Epoch 30/30\n",
      "805/805 [==============================] - 4s 5ms/step - loss: 7.4652e-05 - accuracy: 1.0000 - val_loss: 1.6893 - val_accuracy: 0.8180\n"
     ]
    }
   ],
   "source": [
    "history=model.fit(padded_sequences,Y,epochs=30,validation_split=0.1)"
   ]
  },
  {
   "cell_type": "markdown",
   "id": "be79b571",
   "metadata": {},
   "source": [
    "# Accuracy Graph"
   ]
  },
  {
   "cell_type": "code",
   "execution_count": 70,
   "id": "d75a64ea",
   "metadata": {},
   "outputs": [
    {
     "data": {
      "text/plain": [
       "<matplotlib.legend.Legend at 0x1b2fb0b9340>"
      ]
     },
     "execution_count": 70,
     "metadata": {},
     "output_type": "execute_result"
    },
    {
     "data": {
      "image/png": "[encoded data removed]",
      "text/plain": [
       "<Figure size 432x288 with 1 Axes>"
      ]
     },
     "metadata": {
      "needs_background": "light"
     },
     "output_type": "display_data"
    }
   ],
   "source": [
    "plt.plot(history.history[\"accuracy\"])\n",
    "plt.plot(history.history[\"val_accuracy\"])\n",
    "plt.title(\"Model Accuracy\")\n",
    "plt.ylabel(\"Accuracy\")\n",
    "plt.xlabel(\"Epoch\")\n",
    "plt.legend([\"Train\",\"Validation\"],loc=\"best\")"
   ]
  },
  {
   "cell_type": "markdown",
   "id": "2144431c",
   "metadata": {},
   "source": [
    "# Loss Graph"
   ]
  },
  {
   "cell_type": "code",
   "execution_count": 71,
   "id": "82268435",
   "metadata": {},
   "outputs": [
    {
     "data": {
      "text/plain": [
       "<matplotlib.legend.Legend at 0x1b2fb0aa820>"
      ]
     },
     "execution_count": 71,
     "metadata": {},
     "output_type": "execute_result"
    },
    {
     "data": {
      "image/png": "[encoded data removed]",
      "text/plain": [
       "<Figure size 432x288 with 1 Axes>"
      ]
     },
     "metadata": {
      "needs_background": "light"
     },
     "output_type": "display_data"
    }
   ],
   "source": [
    "plt.plot(history.history[\"loss\"])\n",
    "plt.plot(history.history[\"val_loss\"])\n",
    "plt.title(\"Model Loss\")\n",
    "plt.ylabel(\"Loss\")\n",
    "plt.xlabel(\"Epoch\")\n",
    "plt.legend([\"Train\",\"Validation\"],loc=\"best\")"
   ]
  },
  {
   "cell_type": "markdown",
   "id": "682e3bba",
   "metadata": {},
   "source": [
    "# Create Tokenizer Instance For Test Dataset"
   ]
  },
  {
   "cell_type": "code",
   "execution_count": 80,
   "id": "50024193",
   "metadata": {},
   "outputs": [],
   "source": [
    "_X=[\"granny starting to fear spiders in the garden might be real\",\"this is a headline lol\"]\n",
    "test_token=tf.keras.preprocessing.text.Tokenizer(oov_token=\"<OOV>\")\n",
    "test_token.fit_on_texts(_X)\n",
    "test_sequences=token.texts_to_sequences(_X)\n",
    "test_padded_sequences=tf.keras.preprocessing.sequence.pad_sequences(test_sequences,padding=\"post\",truncating=\"post\",maxlen=20)"
   ]
  },
  {
   "cell_type": "markdown",
   "id": "f9679c18",
   "metadata": {},
   "source": [
    "# Predict On Test Dataset"
   ]
  },
  {
   "cell_type": "code",
   "execution_count": 84,
   "id": "b598280f",
   "metadata": {},
   "outputs": [
    {
     "name": "stdout",
     "output_type": "stream",
     "text": [
      "1/1 [==============================] - 0s 21ms/step\n"
     ]
    },
    {
     "data": {
      "text/plain": [
       "array([[1.],\n",
       "       [0.]], dtype=float32)"
      ]
     },
     "execution_count": 84,
     "metadata": {},
     "output_type": "execute_result"
    }
   ],
   "source": [
    "np.round(model.predict(test_padded_sequences))"
   ]
  },
  {
   "cell_type": "markdown",
   "id": "cef3c2eb",
   "metadata": {},
   "source": [
    "# Save The Model"
   ]
  },
  {
   "cell_type": "code",
   "execution_count": 85,
   "id": "b535624d",
   "metadata": {},
   "outputs": [],
   "source": [
    "model.save(\"sarcasm_prediction_model.h5\")"
   ]
  },
  {
   "cell_type": "markdown",
   "id": "1221f315",
   "metadata": {},
   "source": [
    "# Convert To TFLite Model For Edge Devices"
   ]
  },
  {
   "cell_type": "code",
   "execution_count": 86,
   "id": "1ce5a248",
   "metadata": {
    "scrolled": true
   },
   "outputs": [
    {
     "name": "stdout",
     "output_type": "stream",
     "text": [
      "INFO:tensorflow:Assets written to: C:\\Users\\speed\\AppData\\Local\\Temp\\tmpn96gmiva\\assets\n"
     ]
    },
    {
     "name": "stderr",
     "output_type": "stream",
     "text": [
      "INFO:tensorflow:Assets written to: C:\\Users\\speed\\AppData\\Local\\Temp\\tmpn96gmiva\\assets\n"
     ]
    }
   ],
   "source": [
    "tf_lite_converter=tf.lite.TFLiteConverter.from_keras_model(model)\n",
    "with open(\"sarcasm_prediction_model.tflite\",\"wb\")as f:\n",
    "    f.write(tf_lite_converter.convert())"
   ]
  }
 ],
 "metadata": {
  "kernelspec": {
   "display_name": "Python 3 (ipykernel)",
   "language": "python",
   "name": "python3"
  },
  "language_info": {
   "codemirror_mode": {
    "name": "ipython",
    "version": 3
   },
   "file_extension": ".py",
   "mimetype": "text/x-python",
   "name": "python",
   "nbconvert_exporter": "python",
   "pygments_lexer": "ipython3",
   "version": "3.9.7"
  }
 },
 "nbformat": 4,
 "nbformat_minor": 5
}
