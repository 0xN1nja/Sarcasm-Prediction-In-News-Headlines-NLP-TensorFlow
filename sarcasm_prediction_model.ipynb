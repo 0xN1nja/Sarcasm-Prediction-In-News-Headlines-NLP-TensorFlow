{
 "cells": [
  {
   "cell_type": "code",
   "execution_count": 3,
   "id": "05721b86",
   "metadata": {},
   "outputs": [],
   "source": [
    "import tensorflow as tf\n",
    "import numpy as np\n",
    "import json\n",
    "import matplotlib.pyplot as plt\n",
    "import random"
   ]
  },
  {
   "cell_type": "markdown",
   "id": "a76a4d15",
   "metadata": {},
   "source": [
    "# Create Dataset"
   ]
  },
  {
   "cell_type": "code",
   "execution_count": 4,
   "id": "6dc63e23",
   "metadata": {},
   "outputs": [],
   "source": [
    "x=[]\n",
    "y=[]\n",
    "with open(r\"C:\\Users\\speed\\Documents\\Sarcasm Prediction In News Headlines NLP TensorFlow\\data\\Sarcasm_Headlines_Dataset.json\")as f:\n",
    "    for i in f.readlines():\n",
    "        x.append(json.loads(i)[\"headline\"])\n",
    "        y.append(json.loads(i)[\"is_sarcastic\"])\n",
    "train=[]\n",
    "for i in range(len(x)):\n",
    "    train.append([x[i],y[i]])\n",
    "random.shuffle(train)\n",
    "X=[]\n",
    "Y=[]\n",
    "for i,j in train:\n",
    "    X.append(i)\n",
    "    Y.append(j)\n",
    "X=np.array(X)\n",
    "Y=np.array(Y)\n",
    "assert len(X)==len(Y)"
   ]
  },
  {
   "cell_type": "markdown",
   "id": "8181cc36",
   "metadata": {},
   "source": [
    "# Create Tokenizer Instance"
   ]
  },
  {
   "cell_type": "code",
   "execution_count": 5,
   "id": "da3961ac",
   "metadata": {},
   "outputs": [],
   "source": [
    "token=tf.keras.preprocessing.text.Tokenizer(oov_token=\"<OOV>\")\n",
    "token.fit_on_texts(X)\n",
    "sequences=token.texts_to_sequences(X)\n",
    "padded_sequences=tf.keras.preprocessing.sequence.pad_sequences(sequences,padding=\"post\",truncating=\"post\",maxlen=30)"
   ]
  },
  {
   "cell_type": "markdown",
   "id": "6e9da5c2",
   "metadata": {},
   "source": [
    "# Create Model"
   ]
  },
  {
   "cell_type": "code",
   "execution_count": 6,
   "id": "0c27f234",
   "metadata": {},
   "outputs": [],
   "source": [
    "model=tf.keras.models.Sequential([\n",
    "    tf.keras.layers.Embedding(len(token.word_index)+1,4,input_length=30),\n",
    "    tf.keras.layers.GlobalAveragePooling1D(),\n",
    "    tf.keras.layers.Dense(24,activation=tf.nn.relu),\n",
    "    tf.keras.layers.Dense(1,activation=tf.nn.sigmoid)\n",
    "])"
   ]
  },
  {
   "cell_type": "markdown",
   "id": "e4b0f986",
   "metadata": {},
   "source": [
    "# Get Summary Of Model"
   ]
  },
  {
   "cell_type": "code",
   "execution_count": 7,
   "id": "a6b5ebab",
   "metadata": {},
   "outputs": [
    {
     "name": "stdout",
     "output_type": "stream",
     "text": [
      "Model: \"sequential\"\n",
      "_________________________________________________________________\n",
      " Layer (type)                Output Shape              Param #   \n",
      "=================================================================\n",
      " embedding (Embedding)       (None, 30, 4)             118632    \n",
      "                                                                 \n",
      " global_average_pooling1d (G  (None, 4)                0         \n",
      " lobalAveragePooling1D)                                          \n",
      "                                                                 \n",
      " dense (Dense)               (None, 24)                120       \n",
      "                                                                 \n",
      " dense_1 (Dense)             (None, 1)                 25        \n",
      "                                                                 \n",
      "=================================================================\n",
      "Total params: 118,777\n",
      "Trainable params: 118,777\n",
      "Non-trainable params: 0\n",
      "_________________________________________________________________\n"
     ]
    }
   ],
   "source": [
    "model.summary()"
   ]
  },
  {
   "cell_type": "markdown",
   "id": "d9ac8e9d",
   "metadata": {},
   "source": [
    "# Compile The Model"
   ]
  },
  {
   "cell_type": "code",
   "execution_count": 8,
   "id": "ae359472",
   "metadata": {},
   "outputs": [],
   "source": [
    "model.compile(optimizer=\"adam\",loss=\"binary_crossentropy\",metrics=[\"accuracy\"])"
   ]
  },
  {
   "cell_type": "markdown",
   "id": "ca2988f1",
   "metadata": {},
   "source": [
    "# Train The Model"
   ]
  },
  {
   "cell_type": "code",
   "execution_count": 9,
   "id": "3b7799cc",
   "metadata": {
    "scrolled": true
   },
   "outputs": [
    {
     "name": "stdout",
     "output_type": "stream",
     "text": [
      "Epoch 1/30\n",
      "752/752 [==============================] - 3s 2ms/step - loss: 0.6065 - accuracy: 0.6662 - val_loss: 0.4290 - val_accuracy: 0.8270\n",
      "Epoch 2/30\n",
      "752/752 [==============================] - 2s 2ms/step - loss: 0.3352 - accuracy: 0.8707 - val_loss: 0.3390 - val_accuracy: 0.8536\n",
      "Epoch 3/30\n",
      "752/752 [==============================] - 2s 2ms/step - loss: 0.2389 - accuracy: 0.9094 - val_loss: 0.3230 - val_accuracy: 0.8607\n",
      "Epoch 4/30\n",
      "752/752 [==============================] - 2s 2ms/step - loss: 0.1805 - accuracy: 0.9347 - val_loss: 0.3308 - val_accuracy: 0.8637\n",
      "Epoch 5/30\n",
      "752/752 [==============================] - 2s 3ms/step - loss: 0.1374 - accuracy: 0.9536 - val_loss: 0.3527 - val_accuracy: 0.8641\n",
      "Epoch 6/30\n",
      "752/752 [==============================] - 3s 4ms/step - loss: 0.1050 - accuracy: 0.9662 - val_loss: 0.3789 - val_accuracy: 0.8607\n",
      "Epoch 7/30\n",
      "752/752 [==============================] - 4s 5ms/step - loss: 0.0800 - accuracy: 0.9753 - val_loss: 0.4098 - val_accuracy: 0.8562\n",
      "Epoch 8/30\n",
      "752/752 [==============================] - 3s 4ms/step - loss: 0.0607 - accuracy: 0.9828 - val_loss: 0.4483 - val_accuracy: 0.8532\n",
      "Epoch 9/30\n",
      "752/752 [==============================] - 3s 4ms/step - loss: 0.0460 - accuracy: 0.9876 - val_loss: 0.4904 - val_accuracy: 0.8491\n",
      "Epoch 10/30\n",
      "752/752 [==============================] - 7s 10ms/step - loss: 0.0344 - accuracy: 0.9916 - val_loss: 0.5371 - val_accuracy: 0.8443\n",
      "Epoch 11/30\n",
      "752/752 [==============================] - 6s 8ms/step - loss: 0.0264 - accuracy: 0.9943 - val_loss: 0.5902 - val_accuracy: 0.8435\n",
      "Epoch 12/30\n",
      "752/752 [==============================] - 4s 6ms/step - loss: 0.0198 - accuracy: 0.9962 - val_loss: 0.6405 - val_accuracy: 0.8368\n",
      "Epoch 13/30\n",
      "752/752 [==============================] - 3s 4ms/step - loss: 0.0146 - accuracy: 0.9971 - val_loss: 0.7019 - val_accuracy: 0.8341\n",
      "Epoch 14/30\n",
      "752/752 [==============================] - 5s 7ms/step - loss: 0.0108 - accuracy: 0.9982 - val_loss: 0.7590 - val_accuracy: 0.8326\n",
      "Epoch 15/30\n",
      "752/752 [==============================] - 5s 6ms/step - loss: 0.0078 - accuracy: 0.9988 - val_loss: 0.8135 - val_accuracy: 0.8297\n",
      "Epoch 16/30\n",
      "752/752 [==============================] - 7s 9ms/step - loss: 0.0057 - accuracy: 0.9993 - val_loss: 0.8729 - val_accuracy: 0.8267\n",
      "Epoch 17/30\n",
      "752/752 [==============================] - 7s 9ms/step - loss: 0.0039 - accuracy: 0.9995 - val_loss: 0.9482 - val_accuracy: 0.8237\n",
      "Epoch 18/30\n",
      "752/752 [==============================] - 4s 5ms/step - loss: 0.0027 - accuracy: 0.9997 - val_loss: 1.0152 - val_accuracy: 0.8255\n",
      "Epoch 19/30\n",
      "752/752 [==============================] - 3s 5ms/step - loss: 0.0019 - accuracy: 0.9998 - val_loss: 1.0782 - val_accuracy: 0.8237\n",
      "Epoch 20/30\n",
      "752/752 [==============================] - 4s 5ms/step - loss: 0.0013 - accuracy: 0.9999 - val_loss: 1.1469 - val_accuracy: 0.8263\n",
      "Epoch 21/30\n",
      "752/752 [==============================] - 3s 4ms/step - loss: 8.7148e-04 - accuracy: 1.0000 - val_loss: 1.2037 - val_accuracy: 0.8244\n",
      "Epoch 22/30\n",
      "752/752 [==============================] - 3s 4ms/step - loss: 6.5995e-04 - accuracy: 0.9999 - val_loss: 1.2634 - val_accuracy: 0.8233\n",
      "Epoch 23/30\n",
      "752/752 [==============================] - 4s 5ms/step - loss: 4.5544e-04 - accuracy: 0.9999 - val_loss: 1.3395 - val_accuracy: 0.8225\n",
      "Epoch 24/30\n",
      "752/752 [==============================] - 3s 4ms/step - loss: 2.5728e-04 - accuracy: 1.0000 - val_loss: 1.4119 - val_accuracy: 0.8184\n",
      "Epoch 25/30\n",
      "752/752 [==============================] - 4s 5ms/step - loss: 1.3107e-04 - accuracy: 1.0000 - val_loss: 1.4648 - val_accuracy: 0.8207\n",
      "Epoch 26/30\n",
      "752/752 [==============================] - 3s 4ms/step - loss: 1.3259e-04 - accuracy: 1.0000 - val_loss: 1.5202 - val_accuracy: 0.8184\n",
      "Epoch 27/30\n",
      "752/752 [==============================] - 3s 4ms/step - loss: 6.4579e-05 - accuracy: 1.0000 - val_loss: 1.5770 - val_accuracy: 0.8180\n",
      "Epoch 28/30\n",
      "752/752 [==============================] - 3s 5ms/step - loss: 4.9303e-05 - accuracy: 1.0000 - val_loss: 1.6444 - val_accuracy: 0.8173\n",
      "Epoch 29/30\n",
      "752/752 [==============================] - 4s 5ms/step - loss: 4.1414e-05 - accuracy: 1.0000 - val_loss: 1.7138 - val_accuracy: 0.8169\n",
      "Epoch 30/30\n",
      "752/752 [==============================] - 4s 6ms/step - loss: 2.5354e-05 - accuracy: 1.0000 - val_loss: 1.7703 - val_accuracy: 0.8154\n"
     ]
    }
   ],
   "source": [
    "history=model.fit(padded_sequences,Y,epochs=30,validation_split=0.1)"
   ]
  },
  {
   "cell_type": "markdown",
   "id": "be79b571",
   "metadata": {},
   "source": [
    "# Accuracy Graph"
   ]
  },
  {
   "cell_type": "code",
   "execution_count": 10,
   "id": "d75a64ea",
   "metadata": {},
   "outputs": [
    {
     "data": {
      "text/plain": [
       "<matplotlib.legend.Legend at 0x19ebec530a0>"
      ]
     },
     "execution_count": 10,
     "metadata": {},
     "output_type": "execute_result"
    },
    {
     "data": {
      "image/png": "[encoded data removed]",
      "text/plain": [
       "<Figure size 432x288 with 1 Axes>"
      ]
     },
     "metadata": {
      "needs_background": "light"
     },
     "output_type": "display_data"
    }
   ],
   "source": [
    "plt.plot(history.history[\"accuracy\"])\n",
    "plt.plot(history.history[\"val_accuracy\"])\n",
    "plt.title(\"Model Accuracy\")\n",
    "plt.ylabel(\"Accuracy\")\n",
    "plt.xlabel(\"Epoch\")\n",
    "plt.legend([\"Train\",\"Validation\"],loc=\"best\")"
   ]
  },
  {
   "cell_type": "markdown",
   "id": "2144431c",
   "metadata": {},
   "source": [
    "# Loss Graph"
   ]
  },
  {
   "cell_type": "code",
   "execution_count": 11,
   "id": "82268435",
   "metadata": {},
   "outputs": [
    {
     "data": {
      "text/plain": [
       "<matplotlib.legend.Legend at 0x19ebec5b5b0>"
      ]
     },
     "execution_count": 11,
     "metadata": {},
     "output_type": "execute_result"
    },
    {
     "data": {
      "image/png": "[encoded data removed]",
      "text/plain": [
       "<Figure size 432x288 with 1 Axes>"
      ]
     },
     "metadata": {
      "needs_background": "light"
     },
     "output_type": "display_data"
    }
   ],
   "source": [
    "plt.plot(history.history[\"loss\"])\n",
    "plt.plot(history.history[\"val_loss\"])\n",
    "plt.title(\"Model Loss\")\n",
    "plt.ylabel(\"Loss\")\n",
    "plt.xlabel(\"Epoch\")\n",
    "plt.legend([\"Train\",\"Validation\"],loc=\"best\")"
   ]
  },
  {
   "cell_type": "markdown",
   "id": "682e3bba",
   "metadata": {},
   "source": [
    "# Create Tokenizer Instance For Test Dataset"
   ]
  },
  {
   "cell_type": "code",
   "execution_count": 12,
   "id": "50024193",
   "metadata": {},
   "outputs": [],
   "source": [
    "_X=[\"granny starting to fear spiders in the garden might be real\",\"this is a headline lol\"]\n",
    "test_token=tf.keras.preprocessing.text.Tokenizer(oov_token=\"<OOV>\")\n",
    "test_token.fit_on_texts(_X)\n",
    "test_sequences=token.texts_to_sequences(_X)\n",
    "test_padded_sequences=tf.keras.preprocessing.sequence.pad_sequences(test_sequences,padding=\"post\",truncating=\"post\",maxlen=30)"
   ]
  },
  {
   "cell_type": "markdown",
   "id": "f9679c18",
   "metadata": {},
   "source": [
    "# Predict On Test Dataset"
   ]
  },
  {
   "cell_type": "code",
   "execution_count": 13,
   "id": "b598280f",
   "metadata": {},
   "outputs": [
    {
     "name": "stdout",
     "output_type": "stream",
     "text": [
      "1/1 [==============================] - 0s 87ms/step\n"
     ]
    },
    {
     "data": {
      "text/plain": [
       "array([[1.],\n",
       "       [0.]], dtype=float32)"
      ]
     },
     "execution_count": 13,
     "metadata": {},
     "output_type": "execute_result"
    }
   ],
   "source": [
    "np.round(model.predict(test_padded_sequences))"
   ]
  },
  {
   "cell_type": "markdown",
   "id": "cef3c2eb",
   "metadata": {},
   "source": [
    "# Save The Model"
   ]
  },
  {
   "cell_type": "code",
   "execution_count": 14,
   "id": "b535624d",
   "metadata": {},
   "outputs": [],
   "source": [
    "model.save(\"sarcasm_prediction_model.h5\")"
   ]
  },
  {
   "cell_type": "markdown",
   "id": "1221f315",
   "metadata": {},
   "source": [
    "# Convert To TFLite Model For Edge Devices"
   ]
  },
  {
   "cell_type": "code",
   "execution_count": 15,
   "id": "1ce5a248",
   "metadata": {
    "scrolled": true
   },
   "outputs": [
    {
     "name": "stdout",
     "output_type": "stream",
     "text": [
      "INFO:tensorflow:Assets written to: C:\\Users\\speed\\AppData\\Local\\Temp\\tmp3vf6d1sx\\assets\n"
     ]
    }
   ],
   "source": [
    "tf_lite_converter=tf.lite.TFLiteConverter.from_keras_model(model)\n",
    "with open(\"sarcasm_prediction_model.tflite\",\"wb\")as f:\n",
    "    f.write(tf_lite_converter.convert())"
   ]
  }
 ],
 "metadata": {
  "kernelspec": {
   "display_name": "Python 3 (ipykernel)",
   "language": "python",
   "name": "python3"
  },
  "language_info": {
   "codemirror_mode": {
    "name": "ipython",
    "version": 3
   },
   "file_extension": ".py",
   "mimetype": "text/x-python",
   "name": "python",
   "nbconvert_exporter": "python",
   "pygments_lexer": "ipython3",
   "version": "3.9.7"
  }
 },
 "nbformat": 4,
 "nbformat_minor": 5
}
